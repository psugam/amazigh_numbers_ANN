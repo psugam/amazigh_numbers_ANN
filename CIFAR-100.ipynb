{
 "cells": [
  {
   "cell_type": "code",
   "execution_count": 2,
   "id": "8e19ea5d-0eb1-4d7d-a3eb-5bda2450a525",
   "metadata": {},
   "outputs": [
    {
     "name": "stdout",
     "output_type": "stream",
     "text": [
      "Collecting keras\n",
      "  Downloading keras-3.4.1-py3-none-any.whl.metadata (5.8 kB)\n",
      "Collecting absl-py (from keras)\n",
      "  Downloading absl_py-2.1.0-py3-none-any.whl.metadata (2.3 kB)\n",
      "Requirement already satisfied: numpy in c:\\users\\pokha\\appdata\\roaming\\python\\python312\\site-packages (from keras) (1.26.3)\n",
      "Collecting rich (from keras)\n",
      "  Using cached rich-13.7.1-py3-none-any.whl.metadata (18 kB)\n",
      "Collecting namex (from keras)\n",
      "  Downloading namex-0.0.8-py3-none-any.whl.metadata (246 bytes)\n",
      "Collecting h5py (from keras)\n",
      "  Downloading h5py-3.11.0-cp312-cp312-win_amd64.whl.metadata (2.5 kB)\n",
      "Collecting optree (from keras)\n",
      "  Downloading optree-0.12.1-cp312-cp312-win_amd64.whl.metadata (48 kB)\n",
      "     ---------------------------------------- 0.0/48.7 kB ? eta -:--:--\n",
      "     ------------------------- -------------- 30.7/48.7 kB ? eta -:--:--\n",
      "     ------------------------------- ------ 41.0/48.7 kB 388.9 kB/s eta 0:00:01\n",
      "     ------------------------------- ------ 41.0/48.7 kB 388.9 kB/s eta 0:00:01\n",
      "     ------------------------------- ------ 41.0/48.7 kB 388.9 kB/s eta 0:00:01\n",
      "     ------------------------------- ------ 41.0/48.7 kB 388.9 kB/s eta 0:00:01\n",
      "     -------------------------------------- 48.7/48.7 kB 144.5 kB/s eta 0:00:00\n",
      "Collecting ml-dtypes (from keras)\n",
      "  Downloading ml_dtypes-0.4.0-cp312-cp312-win_amd64.whl.metadata (20 kB)\n",
      "Requirement already satisfied: packaging in c:\\users\\pokha\\appdata\\roaming\\python\\python312\\site-packages (from keras) (24.0)\n",
      "Requirement already satisfied: typing-extensions>=4.5.0 in c:\\users\\pokha\\appdata\\roaming\\python\\python312\\site-packages (from optree->keras) (4.9.0)\n",
      "Collecting markdown-it-py>=2.2.0 (from rich->keras)\n",
      "  Using cached markdown_it_py-3.0.0-py3-none-any.whl.metadata (6.9 kB)\n",
      "Requirement already satisfied: pygments<3.0.0,>=2.13.0 in c:\\users\\pokha\\appdata\\roaming\\python\\python312\\site-packages (from rich->keras) (2.18.0)\n",
      "Collecting mdurl~=0.1 (from markdown-it-py>=2.2.0->rich->keras)\n",
      "  Using cached mdurl-0.1.2-py3-none-any.whl.metadata (1.6 kB)\n",
      "Downloading keras-3.4.1-py3-none-any.whl (1.1 MB)\n",
      "   ---------------------------------------- 0.0/1.1 MB ? eta -:--:--\n",
      "   -- ------------------------------------- 0.1/1.1 MB 1.5 MB/s eta 0:00:01\n",
      "   ------ --------------------------------- 0.2/1.1 MB 2.2 MB/s eta 0:00:01\n",
      "   -------- ------------------------------- 0.2/1.1 MB 1.9 MB/s eta 0:00:01\n",
      "   ------------- -------------------------- 0.4/1.1 MB 2.0 MB/s eta 0:00:01\n",
      "   --------------------- ------------------ 0.6/1.1 MB 2.5 MB/s eta 0:00:01\n",
      "   --------------------------- ------------ 0.8/1.1 MB 2.8 MB/s eta 0:00:01\n",
      "   ---------------------------------------  1.1/1.1 MB 3.8 MB/s eta 0:00:01\n",
      "   ---------------------------------------  1.1/1.1 MB 3.8 MB/s eta 0:00:01\n",
      "   ---------------------------------------  1.1/1.1 MB 3.8 MB/s eta 0:00:01\n",
      "   ---------------------------------------- 1.1/1.1 MB 2.7 MB/s eta 0:00:00\n",
      "Downloading absl_py-2.1.0-py3-none-any.whl (133 kB)\n",
      "   ---------------------------------------- 0.0/133.7 kB ? eta -:--:--\n",
      "   ---------------------------------------  133.1/133.7 kB ? eta -:--:--\n",
      "   ---------------------------------------  133.1/133.7 kB ? eta -:--:--\n",
      "   ---------------------------------------- 133.7/133.7 kB 1.6 MB/s eta 0:00:00\n",
      "Downloading h5py-3.11.0-cp312-cp312-win_amd64.whl (3.0 MB)\n",
      "   ---------------------------------------- 0.0/3.0 MB ? eta -:--:--\n",
      "   --------- ------------------------------ 0.7/3.0 MB 15.0 MB/s eta 0:00:01\n",
      "   ----------- ---------------------------- 0.9/3.0 MB 18.5 MB/s eta 0:00:01\n",
      "   ----------------- ---------------------- 1.3/3.0 MB 9.3 MB/s eta 0:00:01\n",
      "   -------------------------- ------------- 2.0/3.0 MB 11.4 MB/s eta 0:00:01\n",
      "   ------------------------------ --------- 2.3/3.0 MB 10.3 MB/s eta 0:00:01\n",
      "   ------------------------------------- -- 2.8/3.0 MB 10.4 MB/s eta 0:00:01\n",
      "   ---------------------------------------  3.0/3.0 MB 10.5 MB/s eta 0:00:01\n",
      "   ---------------------------------------  3.0/3.0 MB 10.5 MB/s eta 0:00:01\n",
      "   ---------------------------------------  3.0/3.0 MB 10.5 MB/s eta 0:00:01\n",
      "   ---------------------------------------- 3.0/3.0 MB 7.0 MB/s eta 0:00:00\n",
      "Downloading ml_dtypes-0.4.0-cp312-cp312-win_amd64.whl (127 kB)\n",
      "   ---------------------------------------- 0.0/127.5 kB ? eta -:--:--\n",
      "   -------------------------------------- - 122.9/127.5 kB 7.5 MB/s eta 0:00:01\n",
      "   ---------------------------------------- 127.5/127.5 kB 1.5 MB/s eta 0:00:00\n",
      "Downloading namex-0.0.8-py3-none-any.whl (5.8 kB)\n",
      "Downloading optree-0.12.1-cp312-cp312-win_amd64.whl (267 kB)\n",
      "   ---------------------------------------- 0.0/267.2 kB ? eta -:--:--\n",
      "   ---------------------------------------  266.2/267.2 kB ? eta -:--:--\n",
      "   ---------------------------------------  266.2/267.2 kB ? eta -:--:--\n",
      "   ---------------------------------------  266.2/267.2 kB ? eta -:--:--\n",
      "   ---------------------------------------- 267.2/267.2 kB 1.8 MB/s eta 0:00:00\n",
      "Using cached rich-13.7.1-py3-none-any.whl (240 kB)\n",
      "Using cached markdown_it_py-3.0.0-py3-none-any.whl (87 kB)\n",
      "Using cached mdurl-0.1.2-py3-none-any.whl (10.0 kB)\n",
      "Installing collected packages: namex, optree, ml-dtypes, mdurl, h5py, absl-py, markdown-it-py, rich, keras\n"
     ]
    },
    {
     "name": "stderr",
     "output_type": "stream",
     "text": [
      "  WARNING: Failed to write executable - trying to use .deleteme logic\n",
      "ERROR: Could not install packages due to an OSError: [WinError 2] The system cannot find the file specified: 'C:\\\\Python312\\\\Scripts\\\\markdown-it.exe' -> 'C:\\\\Python312\\\\Scripts\\\\markdown-it.exe.deleteme'\n",
      "\n",
      "\n",
      "[notice] A new release of pip is available: 24.0 -> 24.1.2\n",
      "[notice] To update, run: python.exe -m pip install --upgrade pip\n"
     ]
    }
   ],
   "source": [
    "!pip install keras --upgrade"
   ]
  },
  {
   "cell_type": "code",
   "execution_count": null,
   "id": "259c22ed-095f-4aae-8b75-e39f7b6ee47f",
   "metadata": {},
   "outputs": [],
   "source": []
  }
 ],
 "metadata": {
  "kernelspec": {
   "display_name": "Python 3 (ipykernel)",
   "language": "python",
   "name": "python3"
  },
  "language_info": {
   "codemirror_mode": {
    "name": "ipython",
    "version": 3
   },
   "file_extension": ".py",
   "mimetype": "text/x-python",
   "name": "python",
   "nbconvert_exporter": "python",
   "pygments_lexer": "ipython3",
   "version": "3.12.1"
  }
 },
 "nbformat": 4,
 "nbformat_minor": 5
}
